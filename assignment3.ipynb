{
 "cells": [
  {
   "cell_type": "markdown",
   "id": "795362e0-190c-4f37-abae-439d91ddf266",
   "metadata": {},
   "source": [
    "Q1. Which keyword is used to create a function? Create a function to return a list of odd numbers in the\n",
    "range of 1 to 25."
   ]
  },
  {
   "cell_type": "markdown",
   "id": "7fdb64b0-e016-4f03-8f36-88e6da4a662b",
   "metadata": {},
   "source": [
    "Ans: \"Def\" Keyword is used to create a funnction."
   ]
  },
  {
   "cell_type": "code",
   "execution_count": 11,
   "id": "9f151fef-3cc9-4e20-8dea-1f801a8b0335",
   "metadata": {},
   "outputs": [
    {
     "name": "stdout",
     "output_type": "stream",
     "text": [
      "[1, 3, 5, 7, 9, 11, 13, 15, 17, 19, 21, 23, 25]\n"
     ]
    }
   ],
   "source": [
    "def function():\n",
    "    l=[]\n",
    "    for i in range(1,26):\n",
    "        if i%2 != 0:\n",
    "            l.append(i)\n",
    "    return l\n",
    "print(function())  "
   ]
  },
  {
   "cell_type": "markdown",
   "id": "66a85030-23ac-4506-9b27-13a8a88c3fcb",
   "metadata": {},
   "source": [
    "Q2. Why *args and **kwargs is used in some functions? Create a function each for *args and **kwargs to\n",
    "demonstrate their use."
   ]
  },
  {
   "cell_type": "markdown",
   "id": "66411038-4442-49a4-8539-82e7c4a34d98",
   "metadata": {},
   "source": [
    "Ans: *args: This syntax allows a function to accept an arbitrary number of positional arguments. When you use *args as a parameter in a \n",
    "     function definition, it collects any additional positional arguments passed to the function into a tuple."
   ]
  },
  {
   "cell_type": "code",
   "execution_count": 13,
   "id": "cf821af4-02a9-42e4-9f78-78f1e2825bdb",
   "metadata": {},
   "outputs": [
    {
     "data": {
      "text/plain": [
       "(1, 2, 3, 4)"
      ]
     },
     "execution_count": 13,
     "metadata": {},
     "output_type": "execute_result"
    }
   ],
   "source": [
    "def my_function(*args):\n",
    "    return args\n",
    "my_function(1,2,3,4)"
   ]
  },
  {
   "cell_type": "markdown",
   "id": "d7c3c7ab-c1f4-425c-9621-ce23873013a7",
   "metadata": {},
   "source": [
    "**kwargs: This syntax allows a function to accept an arbitrary number of keyword arguments. When you use **kwargs as a parameter in a \n",
    "function definition, it collects any additional keyword arguments passed to the function into a dictionary."
   ]
  },
  {
   "cell_type": "code",
   "execution_count": 5,
   "id": "75c5d821-f33e-4631-856c-0282184c5321",
   "metadata": {},
   "outputs": [
    {
     "data": {
      "text/plain": [
       "{'a': '2', 'b': 'bhav'}"
      ]
     },
     "execution_count": 5,
     "metadata": {},
     "output_type": "execute_result"
    }
   ],
   "source": [
    "def function2(**kwargs):\n",
    "    return kwargs\n",
    "function2(a=\"2\",b=\"bhav\")"
   ]
  },
  {
   "cell_type": "markdown",
   "id": "0cf13313-753d-4de4-946c-24fea148c559",
   "metadata": {},
   "source": [
    "Q3. What is an iterator in python? Name the method used to initialise the iterator object and the method\n",
    "used for iteration. Use these methods to print the first five elements of the given list [2, 4, 6, 8, 10, 12, 14, 16,\n",
    "18, 20]."
   ]
  },
  {
   "cell_type": "markdown",
   "id": "035e6ce1-fb3e-4a27-bcd8-29d42348ab2d",
   "metadata": {},
   "source": [
    "Ans: An iterator is an object that represents a stream of data. It provides a way to access elements of a collection one at a time without needing to know the underlying structure of the collection.\n",
    "\n",
    "Iterators are commonly used in Python to iterate over sequences such as lists, tuples, dictionaries, and sets. They are implemented using two methods: __iter__() and __next__().\n",
    "\n",
    "The __iter__() method returns the iterator object itself.\n",
    "The __next__() method returns the next item from the iterator. When there are no more items to return, it raises a StopIteration exception.\n",
    "Iterators are used extensively in Python's for loop construct. When you loop over a collection using a for loop, Python automatically creates an iterator object and calls its __next__() method repeatedly until the StopIteration exception is raised."
   ]
  },
  {
   "cell_type": "markdown",
   "id": "c462c041-a984-4445-92ce-1cb39082fc7d",
   "metadata": {},
   "source": [
    "Initialization Method: This method is used to create an iterator object from the iterable. In Python, the initialization method is usually iter().FOR example:\n",
    "my_list = [1, 2, 3, 4, 5]\n",
    "my_iterator = iter(my_list)"
   ]
  },
  {
   "cell_type": "markdown",
   "id": "d6dc0131-4c1c-44c3-bbaf-8a3a132adbdd",
   "metadata": {},
   "source": [
    "Iteration Method: This method is used to retrieve elements from the iterator one at a time. In Python, the iteration method is usually next(). For example:\n",
    "print(next(my_iterator)) \n",
    "print(next(my_iterator))"
   ]
  },
  {
   "cell_type": "code",
   "execution_count": 22,
   "id": "11d8099e-9531-4110-97f1-548d249a05fc",
   "metadata": {},
   "outputs": [
    {
     "name": "stdout",
     "output_type": "stream",
     "text": [
      "2\n",
      "4\n",
      "6\n",
      "8\n",
      "10\n"
     ]
    }
   ],
   "source": [
    "list1=[2, 4, 6, 8, 10, 12, 14, 16, 18, 20]\n",
    "\n",
    "my_iter=iter(list1)\n",
    "print(next(my_iter))\n",
    "print(next(my_iter))\n",
    "print(next(my_iter))\n",
    "print(next(my_iter))\n",
    "print(next(my_iter))"
   ]
  },
  {
   "cell_type": "markdown",
   "id": "8af22bd4-ba06-40fe-86c9-b7e91b532a7d",
   "metadata": {},
   "source": [
    "Q4. What is a generator function in python? Why yield keyword is used? Give an example of a generator\n",
    "function."
   ]
  },
  {
   "cell_type": "markdown",
   "id": "a8901a48-1eac-4782-9326-769b7b7e01da",
   "metadata": {},
   "source": [
    "Ans:A generator function in Python is a special type of function that allows you to generate a sequence of values lazily, meaning that it produces values one at a time and only when requested. This is in contrast to normal functions that compute and return all values at once.\n",
    "\n",
    "Generator functions use the yield keyword instead of return to yield a value to the caller while maintaining the state of the function. When the generator function is called, it returns a generator object which can then be iterated over to retrieve the values yielded by the function.\n",
    "\n",
    "The yield keyword in Python is used in generator functions to pause the function's execution and produce a value to the caller. When the generator function encounters a yield statement, it returns the value specified alongside the yield and temporarily suspends its execution, saving its state. This allows the function to resume from where it left off the next time it's called."
   ]
  },
  {
   "cell_type": "code",
   "execution_count": 27,
   "id": "de6f191f-8d24-4444-9da8-745279abefee",
   "metadata": {},
   "outputs": [
    {
     "name": "stdout",
     "output_type": "stream",
     "text": [
      "1\n",
      "4\n",
      "9\n",
      "16\n",
      "25\n"
     ]
    }
   ],
   "source": [
    "def sqrt_fun(limit):\n",
    "    for i in range(1,limit+1):\n",
    "        yield i**2\n",
    "a=sqrt_fun(5)\n",
    "\n",
    "for i in a:\n",
    "    print(i)"
   ]
  },
  {
   "cell_type": "markdown",
   "id": "9866b58d-7a41-439a-a04f-c57f886a395d",
   "metadata": {},
   "source": [
    "Q5. Create a generator function for prime numbers less than 1000. Use the next() method to print the\n",
    "first 20 prime numbers."
   ]
  },
  {
   "cell_type": "code",
   "execution_count": 4,
   "id": "1c0a9ea7-f170-46f4-bcf7-4f2adfc845c9",
   "metadata": {},
   "outputs": [
    {
     "name": "stdout",
     "output_type": "stream",
     "text": [
      "2\n",
      "3\n",
      "5\n",
      "7\n",
      "11\n",
      "13\n",
      "17\n",
      "19\n",
      "23\n",
      "29\n",
      "31\n",
      "37\n",
      "41\n",
      "43\n",
      "47\n",
      "53\n",
      "59\n",
      "61\n",
      "67\n",
      "71\n",
      "73\n",
      "79\n",
      "83\n",
      "89\n",
      "97\n",
      "101\n",
      "103\n",
      "107\n",
      "109\n",
      "113\n",
      "127\n",
      "131\n",
      "137\n",
      "139\n",
      "149\n",
      "151\n",
      "157\n",
      "163\n",
      "167\n",
      "173\n",
      "179\n",
      "181\n",
      "191\n",
      "193\n",
      "197\n",
      "199\n",
      "211\n",
      "223\n",
      "227\n",
      "229\n",
      "233\n",
      "239\n",
      "241\n",
      "251\n",
      "257\n",
      "263\n",
      "269\n",
      "271\n",
      "277\n",
      "281\n",
      "283\n",
      "293\n",
      "307\n",
      "311\n",
      "313\n",
      "317\n",
      "331\n",
      "337\n",
      "347\n",
      "349\n",
      "353\n",
      "359\n",
      "367\n",
      "373\n",
      "379\n",
      "383\n",
      "389\n",
      "397\n",
      "401\n",
      "409\n",
      "419\n",
      "421\n",
      "431\n",
      "433\n",
      "439\n",
      "443\n",
      "449\n",
      "457\n",
      "461\n",
      "463\n",
      "467\n",
      "479\n",
      "487\n",
      "491\n",
      "499\n",
      "503\n",
      "509\n",
      "521\n",
      "523\n",
      "541\n",
      "547\n",
      "557\n",
      "563\n",
      "569\n",
      "571\n",
      "577\n",
      "587\n",
      "593\n",
      "599\n",
      "601\n",
      "607\n",
      "613\n",
      "617\n",
      "619\n",
      "631\n",
      "641\n",
      "643\n",
      "647\n",
      "653\n",
      "659\n",
      "661\n",
      "673\n",
      "677\n",
      "683\n",
      "691\n",
      "701\n",
      "709\n",
      "719\n",
      "727\n",
      "733\n",
      "739\n",
      "743\n",
      "751\n",
      "757\n",
      "761\n",
      "769\n",
      "773\n",
      "787\n",
      "797\n",
      "809\n",
      "811\n",
      "821\n",
      "823\n",
      "827\n",
      "829\n",
      "839\n",
      "853\n",
      "857\n",
      "859\n",
      "863\n",
      "877\n",
      "881\n",
      "883\n",
      "887\n",
      "907\n",
      "911\n",
      "919\n",
      "929\n",
      "937\n",
      "941\n",
      "947\n",
      "953\n",
      "967\n",
      "971\n",
      "977\n",
      "983\n",
      "991\n",
      "997\n"
     ]
    }
   ],
   "source": [
    "def is_prime(num):\n",
    "    if num < 2:\n",
    "        return False\n",
    "    for i in range(2, int(num**0.5) + 1):\n",
    "        if num % i == 0:\n",
    "            return False\n",
    "    return True\n",
    "def prime_generator():\n",
    "    for num in range(2, 1000):\n",
    "        if is_prime(num):\n",
    "            yield num\n",
    "for prime in prime_generator():\n",
    "    print(prime)"
   ]
  },
  {
   "cell_type": "code",
   "execution_count": null,
   "id": "098f3a8c-e1c0-4851-a8e8-c40cef476ce4",
   "metadata": {},
   "outputs": [],
   "source": []
  }
 ],
 "metadata": {
  "kernelspec": {
   "display_name": "Python 3 (ipykernel)",
   "language": "python",
   "name": "python3"
  },
  "language_info": {
   "codemirror_mode": {
    "name": "ipython",
    "version": 3
   },
   "file_extension": ".py",
   "mimetype": "text/x-python",
   "name": "python",
   "nbconvert_exporter": "python",
   "pygments_lexer": "ipython3",
   "version": "3.10.8"
  }
 },
 "nbformat": 4,
 "nbformat_minor": 5
}
